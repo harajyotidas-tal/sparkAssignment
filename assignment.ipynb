{
 "cells": [
  {
   "cell_type": "code",
   "execution_count": 24,
   "id": "14191cba",
   "metadata": {},
   "outputs": [],
   "source": [
    "import findspark\n",
    "findspark.init()\n",
    "from pyspark.sql import SparkSession\n",
    "spark = SparkSession.builder.getOrCreate()\n",
    "# git commits\n",
    "gitCommitsdf = spark.read.csv('git-log-all.csv', header=True)\n",
    "#gitCommitsdf.take(1)\n"
   ]
  },
  {
   "cell_type": "code",
   "execution_count": 25,
   "id": "d1249d4a",
   "metadata": {},
   "outputs": [],
   "source": [
    "# keep only required columns. i.e commit,author,date,insertions,deletions\n",
    "unique_git_commit_with_required_cols_df = gitCommitsdf.select(\"commit\",\"author\",\"date\",\"insertions\",\"deletions\")\n",
    "#git_commit_with_required_cols_df.take(5)"
   ]
  },
  {
   "cell_type": "code",
   "execution_count": 26,
   "id": "d5164c2c",
   "metadata": {},
   "outputs": [],
   "source": [
    "# drop duplicates \n",
    "# quesiton : does resuffle happens internally? I guess it does not happen in just one partition.[inefficient]\n",
    "#unique_git_commit_with_required_cols_df = git_commit_with_required_cols_df.dropDuplicates(subset = ['commit'])\n",
    "#print('Original record count = ', git_commit_with_required_cols_df.count())\n",
    "#print('Dropped record count = ', unique_git_commit_with_required_cols_df.count())\n",
    "#unique_git_commit_with_required_cols_df.filter(unique_git_commit_with_required_cols_df.author==\"Mohammed@talentica-all.com\").show(truncate=False)"
   ]
  },
  {
   "cell_type": "code",
   "execution_count": 27,
   "id": "03d80d82",
   "metadata": {},
   "outputs": [],
   "source": [
    "#convert date to bit integer\n",
    "#Fri Mar 12 00:00:43 2021 +0530\n",
    "def binary_rep(datetimestamp):\n",
    "    loc = int(datetimestamp.split(\" \")[2])-1\n",
    "    return 1<<loc\n",
    "#print(binary_rep(\"Fri Mar 12 00:00:43 2021 +0530\"))"
   ]
  },
  {
   "cell_type": "code",
   "execution_count": 28,
   "id": "0f4ed93d",
   "metadata": {},
   "outputs": [],
   "source": [
    "# month field funtion\n",
    "#Fri Mar 12 00:00:43 2021 +0530\n",
    "def get_month_year(datetimestamp):\n",
    "    day = 1\n",
    "    datetimestampArray = datetimestamp.split(\" \")\n",
    "    month = datetimestampArray[1]\n",
    "    year = datetimestampArray[4]\n",
    "    return \"0{fday}-{fmonth}-{fyear}\".format(fday = day, fmonth = month,fyear=year)\n",
    "#print(get_month_year(\"Fri Mar 12 00:00:43 2021 +0530\"))\n"
   ]
  },
  {
   "cell_type": "code",
   "execution_count": 29,
   "id": "34d12dda",
   "metadata": {},
   "outputs": [],
   "source": [
    "from pyspark.sql.functions import udf,col\n",
    "from pyspark.sql.types import IntegerType,StringType\n",
    "binary_rep_udf = udf(lambda d:binary_rep(d),IntegerType())\n",
    "get_month_year_udf = udf(lambda d:get_month_year(d),StringType())\n",
    "# transformation to be done on the date column\n",
    "#unique_git_commit_with_required_cols_df.take(5)\n",
    "trans_unique_git_commit_with_required_cols_df = unique_git_commit_with_required_cols_df.select(col(\"author\"),\\\n",
    "                                                                                               col(\"insertions\"),\\\n",
    "                                                                                               col(\"deletions\"),\\\n",
    "                                                                                               binary_rep_udf(col(\"date\")).alias(\"bday\"),\\\n",
    "                                                                                               get_month_year_udf(col(\"date\")).alias(\"month\"))                                                                                                                                                                                      \n",
    "#trans_unique_git_commit_with_required_cols_df.show(truncate=False)"
   ]
  },
  {
   "cell_type": "code",
   "execution_count": 30,
   "id": "e517f8f1",
   "metadata": {},
   "outputs": [],
   "source": [
    "# read email aliases\n",
    "email_alias_df = spark.read.json(\"emailAliases.json\")\n",
    "required_email_alias_df = email_alias_df.select(\"alias\",\"email\")\n",
    "#print(emailAliasdf)\n",
    "#required_email_alias_df.show(truncate=False)\n",
    "#remove duplicates\n",
    "#unique_required_email_alias_df = required_email_alias_df.drop_duplicates(subset=['email'])\n",
    "#print(unique_required_email_alias_df.count() == required_email_alias_df.count())"
   ]
  },
  {
   "cell_type": "code",
   "execution_count": 32,
   "id": "4961a182",
   "metadata": {
    "scrolled": true
   },
   "outputs": [
    {
     "name": "stdout",
     "output_type": "stream",
     "text": [
      "+--------------------+----------+--------+---------+-----------+\n",
      "|               alias|insertions|    bday|deletions|      month|\n",
      "+--------------------+----------+--------+---------+-----------+\n",
      "|rakeshp@talentica...|        63|    2048|        2|01-Mar-2021|\n",
      "|rakeshp@talentica...|        63|    2048|        2|01-Mar-2021|\n",
      "|rakeshp@talentica...|        63|    2048|        2|01-Mar-2021|\n",
      "|rakeshp@talentica...|        63|    2048|        2|01-Mar-2021|\n",
      "|rakeshp@talentica...|        63|    2048|        2|01-Mar-2021|\n",
      "|rakeshp@talentica...|        63|    2048|        2|01-Mar-2021|\n",
      "|rakeshp@talentica...|        63|    2048|        2|01-Mar-2021|\n",
      "|Sagar.rajak@talen...|         2|     256|        2|01-Mar-2021|\n",
      "|Sagar.rajak@talen...|         2|     256|        3|01-Mar-2021|\n",
      "|Sagar.rajak@talen...|       174|     128|      146|01-Mar-2021|\n",
      "|Sagar.rajak@talen...|       174|     128|      146|01-Mar-2021|\n",
      "|Sagar.rajak@talen...|       174|     128|      146|01-Mar-2021|\n",
      "|rakeshp@talentica...|       117|       2|        0|01-Mar-2021|\n",
      "|rakeshp@talentica...|       117|       2|        0|01-Mar-2021|\n",
      "|rakeshp@talentica...|       117|       2|        0|01-Mar-2021|\n",
      "|rakeshp@talentica...|        16|16777216|        3|01-Feb-2021|\n",
      "|Sagar.rajak@talen...|        69| 8388608|       15|01-Feb-2021|\n",
      "|rakeshp@talentica...|         8| 8388608|       13|01-Feb-2021|\n",
      "|Sagar.rajak@talen...|         2| 4194304|        2|01-Feb-2021|\n",
      "|Sagar.rajak@talen...|         2| 4194304|        2|01-Feb-2021|\n",
      "+--------------------+----------+--------+---------+-----------+\n",
      "only showing top 20 rows\n",
      "\n"
     ]
    }
   ],
   "source": [
    "joined_commit_df = trans_unique_git_commit_with_required_cols_df.join(required_email_alias_df,\\\n",
    "                                                  trans_unique_git_commit_with_required_cols_df.author == required_email_alias_df.email,\\\n",
    "                                                  'left')\n",
    "final_df = joined_commit_df.select(\"alias\",\"insertions\",\"bday\",\"deletions\",\"month\")\n",
    "final_df.show()\n",
    "#print(final_df.count())"
   ]
  },
  {
   "cell_type": "code",
   "execution_count": 44,
   "id": "4854d649",
   "metadata": {},
   "outputs": [],
   "source": [
    "\"\"\" \n",
    "1.Create a user defined aggregate function. The problem is that you will need to write the user defined aggregate function in scala and wrap it to use in python.\n",
    "2.(inefficient)You can use the collect_list function to collect all values to a list and then write a UDF to combine them.\n",
    "3.(inefficient)You can move to RDD and use aggregate or aggregate by key.\n",
    "sum(\"insertions\",\"deletions\").show()\n",
    "\"\"\"\n",
    "from pyspark.sql.functions import sum,avg,collect_list,collect_set\n",
    "df = final_df.withColumn(\"insertions\",final_df.insertions.cast('int')).\\\n",
    "    withColumn(\"deletions\",final_df.deletions.cast('int')).\\\n",
    "    groupBy(\"alias\",\"month\").agg(sum(\"deletions\").alias(\"deletions\"),\\\n",
    "                                 sum(\"insertions\").alias(\"insertions\"),\\\n",
    "                                 collect_set(\"bday\").alias(\"days\"))\n"
   ]
  },
  {
   "cell_type": "code",
   "execution_count": 45,
   "id": "be1f28f4",
   "metadata": {},
   "outputs": [],
   "source": [
    "# binary days merge function\n",
    "from datetime import datetime\n",
    "def calculate_work_day(binary_rep_day,month):\n",
    "    dayOfWeek = datetime.strptime(month,\"%d-%b-%Y\").weekday()\n",
    "    dist=-1\n",
    "    total_days=0\n",
    "    for shift in range(0,31):\n",
    "        pos_b = 1 << shift\n",
    "        currdayOfWeek = (dayOfWeek + shift) % 7\n",
    "        if(currdayOfWeek == 6 or currdayOfWeek == 7 ):\n",
    "            continue\n",
    "        if dist != -1:\n",
    "            dist = dist+1\n",
    "        if(binary_rep_day & pos_b):\n",
    "            if dist == -1:\n",
    "                dist = 0\n",
    "            else:\n",
    "                if(dist <= 3):\n",
    "                    total_days = total_days + dist\n",
    "                dist = 0\n",
    "    return total_days\n",
    "#print(calculate_work_day([32,16,2,64],\"01-Oct-2020\"))\n",
    "def merge(daylist):\n",
    "    result = 0\n",
    "    for day in daylist:\n",
    "        result = result | day\n",
    "    return result"
   ]
  },
  {
   "cell_type": "code",
   "execution_count": 46,
   "id": "f1b726ab",
   "metadata": {},
   "outputs": [],
   "source": [
    "merge_udf = udf(lambda d:merge(d),IntegerType())\n",
    "intermediate_result_df = df.select(col(\"alias\"),\\\n",
    "                                  col(\"month\"),\\\n",
    "                                  merge_udf(\"days\").alias(\"days\"),\\\n",
    "                                  col(\"insertions\"),\\\n",
    "                                  col(\"deletions\"))\n",
    "#intermediate_result_df.take(5)"
   ]
  },
  {
   "cell_type": "code",
   "execution_count": 47,
   "id": "edfebd18",
   "metadata": {},
   "outputs": [],
   "source": [
    "calculate_work_day_udf = udf(lambda d,m:calculate_work_day(d,m),IntegerType())"
   ]
  },
  {
   "cell_type": "code",
   "execution_count": 49,
   "id": "7c1379f9",
   "metadata": {},
   "outputs": [
    {
     "name": "stdout",
     "output_type": "stream",
     "text": [
      "+------------------------------+-----------+----+----------+---------+\n",
      "|alias                         |month      |days|insertions|deletions|\n",
      "+------------------------------+-----------+----+----------+---------+\n",
      "|ratneshp@talentica.com        |01-Sep-2020|0   |335       |57       |\n",
      "|rakeshp@talentica.com         |01-Oct-2020|8   |6271      |3390     |\n",
      "|mohammed@talentica-all.com    |01-Sep-2020|1   |16617     |0        |\n",
      "|ratneshp@talentica.com        |01-Jan-2021|15  |30171     |22364    |\n",
      "|Sagar.rajak@talentica.com     |01-Dec-2020|16  |9008      |3024     |\n",
      "|shravan.kumar@talentica.com   |01-Jan-2021|10  |1568      |623      |\n",
      "|Shubham.Patidar@talentica.com |01-Mar-2021|4   |264485    |21639    |\n",
      "|rakeshp@talentica.com         |01-Jun-2020|1   |424       |247      |\n",
      "|ratneshp@talentica.com        |01-May-2020|1   |721       |32       |\n",
      "|Sagar.rajak@talentica.com     |01-Feb-2021|18  |41767     |88362    |\n",
      "|ratneshp@talentica.com        |01-Mar-2021|4   |89        |86       |\n",
      "|shravan.kumar@talentica.com   |01-Dec-2020|1   |200       |192      |\n",
      "|ratneshp@talentica.com        |01-Jul-2020|6   |3921322   |209435   |\n",
      "|Satish.Vemperala@talentica.com|01-Apr-2020|0   |171       |11       |\n",
      "|sagar.rajak@talentica.com     |01-Feb-2020|3   |160284    |132908   |\n",
      "|satish.vemperala@talentica.com|01-Jan-2021|1   |734       |76       |\n",
      "|priya.kar@talentica.com       |01-Mar-2021|10  |1284246   |9240     |\n",
      "|rakeshp@talentica.com         |01-May-2020|1   |0         |0        |\n",
      "|rakeshp@talentica.com         |01-Jan-2021|16  |7908      |80316    |\n",
      "|shravan.kumar@talentica.com   |01-Mar-2021|10  |5900      |2379     |\n",
      "+------------------------------+-----------+----+----------+---------+\n",
      "only showing top 20 rows\n",
      "\n"
     ]
    }
   ],
   "source": [
    "result_group_by_author_month_df = intermediate_result_df.select(col(\"alias\"),\\\n",
    "                                  col(\"month\"),\\\n",
    "                                  calculate_work_day_udf(\"days\",\"month\").alias(\"days\"),\\\n",
    "                                  col(\"insertions\"),\\\n",
    "                                  col(\"deletions\"))\n",
    "result_group_by_author_month_df.show(truncate=False)\n",
    "#result_df.write.format(\"json\").mode(\"overwrite\").save(\"results.json\")\n",
    "#print(result_group_by_author_month_df.count())"
   ]
  },
  {
   "cell_type": "code",
   "execution_count": null,
   "id": "051d06ed",
   "metadata": {},
   "outputs": [],
   "source": []
  }
 ],
 "metadata": {
  "kernelspec": {
   "display_name": "Python 3",
   "language": "python",
   "name": "python3"
  },
  "language_info": {
   "codemirror_mode": {
    "name": "ipython",
    "version": 3
   },
   "file_extension": ".py",
   "mimetype": "text/x-python",
   "name": "python",
   "nbconvert_exporter": "python",
   "pygments_lexer": "ipython3",
   "version": "3.8.8"
  }
 },
 "nbformat": 4,
 "nbformat_minor": 5
}
